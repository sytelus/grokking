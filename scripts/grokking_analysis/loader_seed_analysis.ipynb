{
 "cells": [
  {
   "cell_type": "code",
   "execution_count": 32,
   "metadata": {},
   "outputs": [],
   "source": [
    "from nanugpt import utils"
   ]
  },
  {
   "cell_type": "code",
   "execution_count": 33,
   "metadata": {},
   "outputs": [],
   "source": [
    "#log_filepath = r\"$OUT_DIR/grokking/seed_search_loader_gen.txt\"\n",
    "log_filepath = r\"$OUT_DIR/grokking/loader_seed_Search.txt\""
   ]
  },
  {
   "cell_type": "code",
   "execution_count": 34,
   "metadata": {},
   "outputs": [
    {
     "name": "stdout",
     "output_type": "stream",
     "text": [
      "Number of logs: 3180\n",
      "Example log: {'seed': 42, 'data_loader_seed': 0, 'train/step': 2999, 'val/acc': 0.01289, 'val/loss': 11.91, 'train/acc': 0.9785, 'train/loss': 0.1384, 'w_norm': 65.27, 'lr': 0.001}\n"
     ]
    }
   ],
   "source": [
    "with open(utils.full_path(log_filepath), 'r') as f:\n",
    "    lines = f.readlines()\n",
    "\n",
    "logs = []\n",
    "for line in lines:\n",
    "    if 'seed=' not in line:\n",
    "        continue    \n",
    "    columns = line.split('[INFO] ')[1].split(',')\n",
    "    log = {}\n",
    "    for column in columns:\n",
    "        if '=' in column:\n",
    "            key, val = tuple(column.split('='))\n",
    "            val = val.strip()\n",
    "            if val.isnumeric():\n",
    "                val = int(val)\n",
    "            else:\n",
    "                try:\n",
    "                    val = float(val)\n",
    "                except ValueError:\n",
    "                    pass\n",
    "            log[key.strip()] = val\n",
    "    logs.append(log)\n",
    "    \n",
    "print('Number of logs: {}'.format(len(logs)))\n",
    "print('Example log: {}'.format(logs[0]))"
   ]
  },
  {
   "cell_type": "code",
   "execution_count": 35,
   "metadata": {},
   "outputs": [
    {
     "data": {
      "image/png": "[encoded data removed]",
      "text/plain": [
       "<Figure size 640x480 with 1 Axes>"
      ]
     },
     "metadata": {},
     "output_type": "display_data"
    }
   ],
   "source": [
    "utils.draw_histogram([log['val/acc'] for log in logs if log['val/acc'] <= 1], 'Val Acc', 'Frequency', 'Val acc histogram')"
   ]
  },
  {
   "cell_type": "code",
   "execution_count": 36,
   "metadata": {},
   "outputs": [
    {
     "name": "stdout",
     "output_type": "stream",
     "text": [
      "['0b1000', '0b11011100', '0b100010011', '0b100111011', '0b1000110011', '0b1100011001', '0b1111101000', '0b10000000010', '0b10011110101', '0b10101111010', '0b100011000000', '0b100011111101', '0b100100100110', '0b100110110000', '0b101000000101', '0b101101010000', '0b101110101011', '0b101111101101', '0b101111110111']\n",
      "Number of good seeds: 19\n",
      "% of good seeds: 0.5974842767295597%\n"
     ]
    }
   ],
   "source": [
    "good_seeds = [log['data_loader_seed'] for log in logs if log['val/acc'] > 0.98]\n",
    "print([bin(g) for g in good_seeds])\n",
    "print('Number of good seeds: {}'.format(len(good_seeds)))\n",
    "print('% of good seeds: {}%'.format(len(good_seeds) * 100.0 / len(logs)))"
   ]
  },
  {
   "cell_type": "code",
   "execution_count": 37,
   "metadata": {},
   "outputs": [
    {
     "name": "stdout",
     "output_type": "stream",
     "text": [
      "Number of normal seeds: 3000\n",
      "% of normal_seeds seeds: 94.33962264150944%\n"
     ]
    }
   ],
   "source": [
    "normal_seeds = [log['data_loader_seed'] for log in logs if log['val/acc'] < 0.25]\n",
    "print('Number of normal seeds: {}'.format(len(normal_seeds)))\n",
    "print('% of normal_seeds seeds: {}%'.format(len(normal_seeds) * 100.0 / len(logs)))"
   ]
  }
 ],
 "metadata": {
  "kernelspec": {
   "display_name": "base",
   "language": "python",
   "name": "python3"
  },
  "language_info": {
   "codemirror_mode": {
    "name": "ipython",
    "version": 3
   },
   "file_extension": ".py",
   "mimetype": "text/x-python",
   "name": "python",
   "nbconvert_exporter": "python",
   "pygments_lexer": "ipython3",
   "version": "3.11.4"
  },
  "orig_nbformat": 4
 },
 "nbformat": 4,
 "nbformat_minor": 2
}
